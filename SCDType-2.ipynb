{
 "cells": [
  {
   "cell_type": "code",
   "execution_count": 0,
   "metadata": {
    "application/vnd.databricks.v1+cell": {
     "cellMetadata": {
      "byteLimit": 2048000,
      "rowLimit": 10000
     },
     "inputWidgets": {},
     "nuid": "f23c6d94-05ee-4dc8-acaf-ea746e713898",
     "showTitle": false,
     "title": ""
    }
   },
   "outputs": [],
   "source": [
    "target_schema='customer_id long ,customer_fname string ,customer_lname string , username string , password string ,address string ,city string ,state string ,pincode long ,key long ,effective_date date,future_date date,active_flag boolean'\n",
    "slowly_changing_dimensions=['username', 'password','address','city','state','pincode']\n",
    "\n",
    "target_columns = ['customer_id'  ,'customer_fname'  ,'customer_lname'  , 'username'  , 'password'  ,'address'  ,'city'  ,'state'  ,'pincode'  ,'key'  ,'effective_date','future_date' ,'active_flag']\n",
    "source_columns = ['customer_id'  ,'customer_fname'  ,'customer_lname'  , 'username'  , 'password'  ,'address'  ,'city'  ,'state'  ,'pincode']"
   ]
  },
  {
   "cell_type": "code",
   "execution_count": 0,
   "metadata": {
    "application/vnd.databricks.v1+cell": {
     "cellMetadata": {
      "byteLimit": 2048000,
      "rowLimit": 10000
     },
     "inputWidgets": {},
     "nuid": "99976616-6420-4813-bbc2-71e817b91337",
     "showTitle": false,
     "title": ""
    }
   },
   "outputs": [],
   "source": [
    "source_df = spark.read\\\n",
    "    .format('csv')\\\n",
    "        .option('header',True)\\\n",
    "            .option('inferSchema',True)\\\n",
    "                .load('dbfs:/FileStore/data/scd_demo/customer_scd_demo_type2-1.csv')"
   ]
  },
  {
   "cell_type": "code",
   "execution_count": 0,
   "metadata": {
    "application/vnd.databricks.v1+cell": {
     "cellMetadata": {
      "byteLimit": 2048000,
      "rowLimit": 10000
     },
     "inputWidgets": {},
     "nuid": "6d586d8a-094f-40e9-aebd-609cf5892c66",
     "showTitle": false,
     "title": ""
    }
   },
   "outputs": [
    {
     "output_type": "stream",
     "name": "stdout",
     "output_type": "stream",
     "text": [
      "+-----------+--------------+--------------+---------+---------+--------------------+-----------+-----+-------+\n|customer_id|customer_fname|customer_lname| username| password|             address|       city|state|pincode|\n+-----------+--------------+--------------+---------+---------+--------------------+-----------+-----+-------+\n|          1|       Richard|     Hernandez|XXXXXXXXX|XXXXXXXXX|  6303 Heather Plaza|OrangeVilla|   TX|  78521|\n|          2|          Mary|       Barrett|XXXXXXXXX|XXXXXXXXX|9526 Noble Embers...|  Littleton|   CO|  80126|\n|          3|           Ann|         Smith|XXXXXXXXX|XXXXXXXXX|3422 Blue Pioneer...|     Caguas|   PR|    725|\n|          4|          Mary|         Jones|XXXXXXXXX|XXXXXXXXX|  8324 Little Common| San Marcos|   CA|  92069|\n|          5|        Robert|        Hudson|XXXXXXXXX|XXXXXXXXX|10 Crystal River ...|     Caguas|   PR|    725|\n|          6|          Mary|         Smith|XXXXXXXXX|XXXXXXXXX|3151 Sleepy Quail...|    Passaic|   NJ|   7055|\n|          7|       Melissa|        Wilcox|XXXXXXXXX|XXXXXXXXX|9453 High Concession|     Caguas|   PR|    725|\n|          8|         Megan|         Smith|XXXXXXXXX|XXXXXXXXX|3047 Foggy Forest...|   Lawrence|   MA|   1841|\n|          9|          Mary|         Perez|XXXXXXXXX|XXXXXXXXX| 3616 Quaking Street|     Caguas|   PR|    725|\n|         10|       Melissa|         Smith|XXXXXXXXX|XXXXXXXXX|8598 Harvest Beac...|   Stafford|   VA|  22554|\n|         13|        Velina|         Smith|XXXXXXXXX|XXXXXXXXX|8598 Mari Gold  B...|   Stafford|   OH|  12345|\n+-----------+--------------+--------------+---------+---------+--------------------+-----------+-----+-------+\n\n"
     ]
    }
   ],
   "source": [
    "source_df.show()"
   ]
  },
  {
   "cell_type": "code",
   "execution_count": 0,
   "metadata": {
    "application/vnd.databricks.v1+cell": {
     "cellMetadata": {
      "byteLimit": 2048000,
      "rowLimit": 10000
     },
     "inputWidgets": {},
     "nuid": "d02d44a9-3798-4707-8a2d-267152ecc75e",
     "showTitle": false,
     "title": ""
    }
   },
   "outputs": [
    {
     "output_type": "stream",
     "name": "stdout",
     "output_type": "stream",
     "text": [
      "Column<'date_format(current_date(), dd-MM-yyyy)'>\n+----------+\n|today_date|\n+----------+\n|20-02-2024|\n+----------+\n\n"
     ]
    }
   ],
   "source": [
    "from pyspark.sql.functions import *\n",
    "dt = date_format(current_date(),'dd-MM-yyyy')\n",
    "print(dt)\n",
    "spark.sql('select date_format(current_date(),\"dd-MM-yyyy\") as today_date').show()\n"
   ]
  },
  {
   "cell_type": "code",
   "execution_count": 0,
   "metadata": {
    "application/vnd.databricks.v1+cell": {
     "cellMetadata": {
      "byteLimit": 2048000,
      "rowLimit": 10000
     },
     "inputWidgets": {},
     "nuid": "c27303dd-32d2-47bd-86d2-9bb98927f167",
     "showTitle": false,
     "title": ""
    }
   },
   "outputs": [],
   "source": []
  },
  {
   "cell_type": "code",
   "execution_count": 0,
   "metadata": {
    "application/vnd.databricks.v1+cell": {
     "cellMetadata": {
      "byteLimit": 2048000,
      "rowLimit": 10000
     },
     "inputWidgets": {},
     "nuid": "f3d3606a-ac6b-46b5-9f9d-bdc13ad985db",
     "showTitle": false,
     "title": ""
    }
   },
   "outputs": [],
   "source": [
    "from pyspark.sql.window import Window\n",
    "from pyspark.sql.functions import *\n",
    "mywin=Window.orderBy('customer_id')\n",
    "target_df = source_df.withColumn('rownum',row_number().over(mywin))\n",
    "target_df = target_df.withColumn('key', target_df['rownum'])\\\n",
    "        .withColumn('effective_date', date_format(current_date(),'dd-MM-yyyy'))\\\n",
    "        .withColumn('future_date', lit('31-12-9999'))\\\n",
    "        .withColumn('active_flag',lit('true'))\\\n",
    "                .drop('rownum')\n",
    "\n",
    "\n"
   ]
  },
  {
   "cell_type": "code",
   "execution_count": 0,
   "metadata": {
    "application/vnd.databricks.v1+cell": {
     "cellMetadata": {
      "byteLimit": 2048000,
      "rowLimit": 10000
     },
     "inputWidgets": {},
     "nuid": "3ea6c235-db6c-4875-b25d-63a8f05a57c1",
     "showTitle": false,
     "title": ""
    }
   },
   "outputs": [
    {
     "output_type": "stream",
     "name": "stdout",
     "output_type": "stream",
     "text": [
      "+-----------+--------------+--------------+---------+---------+--------------------+-----------+-----+-------+---+--------------+-----------+-----------+\n|customer_id|customer_fname|customer_lname| username| password|             address|       city|state|pincode|key|effective_date|future_date|active_flag|\n+-----------+--------------+--------------+---------+---------+--------------------+-----------+-----+-------+---+--------------+-----------+-----------+\n|          1|       Richard|     Hernandez|XXXXXXXXX|XXXXXXXXX|  6303 Heather Plaza|Brownsville|   TX|  78521|  1|    20-02-2024| 31-12-9999|       true|\n|          2|          Mary|       Barrett|XXXXXXXXX|XXXXXXXXX|9526 Noble Embers...|  Littleton|   CO|  80126|  2|    20-02-2024| 31-12-9999|       true|\n|          3|           Ann|         Smith|XXXXXXXXX|XXXXXXXXX|3422 Blue Pioneer...|     Caguas|   PR|    725|  3|    20-02-2024| 31-12-9999|       true|\n|          4|          Mary|         Jones|XXXXXXXXX|XXXXXXXXX|  8324 Little Common| San Marcos|   CA|  92069|  4|    20-02-2024| 31-12-9999|       true|\n|          5|        Robert|        Hudson|XXXXXXXXX|XXXXXXXXX|10 Crystal River ...|     Caguas|   PR|    725|  5|    20-02-2024| 31-12-9999|       true|\n|          6|          Mary|         Smith|XXXXXXXXX|XXXXXXXXX|3151 Sleepy Quail...|    Passaic|   NJ|   7055|  6|    20-02-2024| 31-12-9999|       true|\n|          7|       Melissa|        Wilcox|XXXXXXXXX|XXXXXXXXX|9453 High Concession|     Caguas|   PR|    725|  7|    20-02-2024| 31-12-9999|       true|\n|          8|         Megan|         Smith|XXXXXXXXX|XXXXXXXXX|3047 Foggy Forest...|   Lawrence|   MA|   1841|  8|    20-02-2024| 31-12-9999|       true|\n|          9|          Mary|         Perez|XXXXXXXXX|XXXXXXXXX| 3616 Quaking Street|     Caguas|   PR|    725|  9|    20-02-2024| 31-12-9999|       true|\n|         10|       Melissa|         Smith|XXXXXXXXX|XXXXXXXXX|8598 Harvest Beac...|   Stafford|   VA|  22554| 10|    20-02-2024| 31-12-9999|       true|\n|         11|          Mary|       Huffman|XXXXXXXXX|XXXXXXXXX|    3169 Stony Woods|     Caguas|   PR|    725| 11|    20-02-2024| 31-12-9999|       true|\n|         12|   Christopher|         Smith|XXXXXXXXX|XXXXXXXXX|5594 Jagged Ember...|San Antonio|   TX|  78227| 12|    20-02-2024| 31-12-9999|       true|\n+-----------+--------------+--------------+---------+---------+--------------------+-----------+-----+-------+---+--------------+-----------+-----------+\n\n"
     ]
    }
   ],
   "source": [
    "target_df.show()"
   ]
  },
  {
   "cell_type": "markdown",
   "metadata": {
    "application/vnd.databricks.v1+cell": {
     "cellMetadata": {
      "byteLimit": 2048000,
      "rowLimit": 10000
     },
     "inputWidgets": {},
     "nuid": "902716fd-176b-4e05-bc34-b9e5131fe911",
     "showTitle": false,
     "title": ""
    }
   },
   "source": [
    "##storing the target df which is the enchanced version Data WareHouse back to the dbfs"
   ]
  },
  {
   "cell_type": "code",
   "execution_count": 0,
   "metadata": {
    "application/vnd.databricks.v1+cell": {
     "cellMetadata": {
      "byteLimit": 2048000,
      "rowLimit": 10000
     },
     "inputWidgets": {},
     "nuid": "33548456-1250-4eeb-9b33-33e080574a9a",
     "showTitle": false,
     "title": ""
    }
   },
   "outputs": [],
   "source": [
    "target_df.write\\\n",
    "    .mode('overwrite').option('header','true')\\\n",
    "    .format('csv').option('path','dbfs:/FileStore/data/scd_demo/target')\\\n",
    "        .save()\n",
    "\n",
    "        \n"
   ]
  },
  {
   "cell_type": "code",
   "execution_count": 0,
   "metadata": {
    "application/vnd.databricks.v1+cell": {
     "cellMetadata": {},
     "inputWidgets": {},
     "nuid": "486e7e51-9135-4498-8a8a-d44b94274edc",
     "showTitle": false,
     "title": ""
    }
   },
   "outputs": [],
   "source": []
  },
  {
   "cell_type": "code",
   "execution_count": 0,
   "metadata": {
    "application/vnd.databricks.v1+cell": {
     "cellMetadata": {
      "byteLimit": 2048000,
      "rowLimit": 10000
     },
     "inputWidgets": {},
     "nuid": "c5da84b0-4ef7-488a-8ca8-f895e94ff458",
     "showTitle": false,
     "title": ""
    }
   },
   "outputs": [
    {
     "output_type": "stream",
     "name": "stdout",
     "output_type": "stream",
     "text": [
      "12\n0\n"
     ]
    }
   ],
   "source": [
    "target_active_df = target_df.where(target_df['active_flag']==True)\n",
    "target_inactive_df=target_df.where(target_df['active_flag']==False)\n",
    "\n",
    "\n",
    "print(target_active_df.count())\n",
    "print(target_inactive_df.count())"
   ]
  },
  {
   "cell_type": "markdown",
   "metadata": {
    "application/vnd.databricks.v1+cell": {
     "cellMetadata": {},
     "inputWidgets": {},
     "nuid": "490b62ea-4faf-4423-a2d0-7812b7039b14",
     "showTitle": false,
     "title": ""
    }
   },
   "source": [
    "###adding md5 columns in both target active and source df "
   ]
  },
  {
   "cell_type": "code",
   "execution_count": 0,
   "metadata": {
    "application/vnd.databricks.v1+cell": {
     "cellMetadata": {
      "byteLimit": 2048000,
      "rowLimit": 10000
     },
     "inputWidgets": {},
     "nuid": "7dc87b52-9dfb-4b1f-99a3-f006e7011c3d",
     "showTitle": false,
     "title": ""
    }
   },
   "outputs": [],
   "source": [
    "target_active_df=target_active_df.withColumn('hash_md5',md5(concat_ws('',*slowly_changing_dimensions)))\n",
    "source_df= source_df.withColumn('hash_md5',md5(concat_ws('',*slowly_changing_dimensions )  ))\n",
    "#source_df.show(truncate=False)\n",
    "#target_active_df.show(truncate=False)\n"
   ]
  },
  {
   "cell_type": "code",
   "execution_count": 0,
   "metadata": {
    "application/vnd.databricks.v1+cell": {
     "cellMetadata": {
      "byteLimit": 2048000,
      "rowLimit": 10000
     },
     "inputWidgets": {},
     "nuid": "08134e1d-bebe-4d66-9d45-fa8909d4a522",
     "showTitle": false,
     "title": ""
    }
   },
   "outputs": [],
   "source": [
    "##joinning between target active and source df \n",
    "source_suffix='_source'\n",
    "target_suffix='_target'\n"
   ]
  },
  {
   "cell_type": "code",
   "execution_count": 0,
   "metadata": {
    "application/vnd.databricks.v1+cell": {
     "cellMetadata": {
      "byteLimit": 2048000,
      "rowLimit": 10000
     },
     "inputWidgets": {},
     "nuid": "ffdc0209-77ff-4cb7-ba45-8b7f7122f5a0",
     "showTitle": false,
     "title": ""
    }
   },
   "outputs": [],
   "source": [
    "def column_renamer(df, suffix, append):\n",
    "    #list=[]\n",
    "    if append:\n",
    "        for col in  df.columns:\n",
    "            newcol=col+suffix\n",
    "            #list.append(newcol)\n",
    "            df =df.withColumnRenamed(col , newcol)\n",
    "            \n",
    "    else:\n",
    "        for col in df.columns:\n",
    "            new=col.replace(suffix,'')\n",
    "            df=df.withColumnRenamed(col,new)\n",
    "\n",
    "\n",
    "    return df         \n"
   ]
  },
  {
   "cell_type": "code",
   "execution_count": 0,
   "metadata": {
    "application/vnd.databricks.v1+cell": {
     "cellMetadata": {
      "byteLimit": 2048000,
      "rowLimit": 10000
     },
     "inputWidgets": {},
     "nuid": "65814e52-3e1b-463c-a6e2-d9c084f5f8a9",
     "showTitle": false,
     "title": ""
    }
   },
   "outputs": [
    {
     "output_type": "stream",
     "name": "stdout",
     "output_type": "stream",
     "text": [
      "+------------------+---------------------+---------------------+---------------+---------------+--------------------+-----------+------------+--------------+----------+---------------------+------------------+------------------+--------------------+\n|customer_id_target|customer_fname_target|customer_lname_target|username_target|password_target|      address_target|city_target|state_target|pincode_target|key_target|effective_date_target|future_date_target|active_flag_target|     hash_md5_target|\n+------------------+---------------------+---------------------+---------------+---------------+--------------------+-----------+------------+--------------+----------+---------------------+------------------+------------------+--------------------+\n|                 1|              Richard|            Hernandez|      XXXXXXXXX|      XXXXXXXXX|  6303 Heather Plaza|Brownsville|          TX|         78521|         1|           20-02-2024|        31-12-9999|              true|f2c1345c132ad8174...|\n|                 2|                 Mary|              Barrett|      XXXXXXXXX|      XXXXXXXXX|9526 Noble Embers...|  Littleton|          CO|         80126|         2|           20-02-2024|        31-12-9999|              true|0a3dd6caa8299ff23...|\n|                 3|                  Ann|                Smith|      XXXXXXXXX|      XXXXXXXXX|3422 Blue Pioneer...|     Caguas|          PR|           725|         3|           20-02-2024|        31-12-9999|              true|b7ceea21c9e952b6d...|\n|                 4|                 Mary|                Jones|      XXXXXXXXX|      XXXXXXXXX|  8324 Little Common| San Marcos|          CA|         92069|         4|           20-02-2024|        31-12-9999|              true|288548d73dc94340e...|\n|                 5|               Robert|               Hudson|      XXXXXXXXX|      XXXXXXXXX|10 Crystal River ...|     Caguas|          PR|           725|         5|           20-02-2024|        31-12-9999|              true|241fe7e8d544405fc...|\n|                 6|                 Mary|                Smith|      XXXXXXXXX|      XXXXXXXXX|3151 Sleepy Quail...|    Passaic|          NJ|          7055|         6|           20-02-2024|        31-12-9999|              true|4de13de14f63afca5...|\n|                 7|              Melissa|               Wilcox|      XXXXXXXXX|      XXXXXXXXX|9453 High Concession|     Caguas|          PR|           725|         7|           20-02-2024|        31-12-9999|              true|3e03db4c5453280bc...|\n|                 8|                Megan|                Smith|      XXXXXXXXX|      XXXXXXXXX|3047 Foggy Forest...|   Lawrence|          MA|          1841|         8|           20-02-2024|        31-12-9999|              true|57b99fa733f062255...|\n|                 9|                 Mary|                Perez|      XXXXXXXXX|      XXXXXXXXX| 3616 Quaking Street|     Caguas|          PR|           725|         9|           20-02-2024|        31-12-9999|              true|2261235a19a71eeef...|\n|                10|              Melissa|                Smith|      XXXXXXXXX|      XXXXXXXXX|8598 Harvest Beac...|   Stafford|          VA|         22554|        10|           20-02-2024|        31-12-9999|              true|4d9276d2febeb1072...|\n|                11|                 Mary|              Huffman|      XXXXXXXXX|      XXXXXXXXX|    3169 Stony Woods|     Caguas|          PR|           725|        11|           20-02-2024|        31-12-9999|              true|35cdb9ea7dc689493...|\n|                12|          Christopher|                Smith|      XXXXXXXXX|      XXXXXXXXX|5594 Jagged Ember...|San Antonio|          TX|         78227|        12|           20-02-2024|        31-12-9999|              true|0cee0ae8686ec91a9...|\n+------------------+---------------------+---------------------+---------------+---------------+--------------------+-----------+------------+--------------+----------+---------------------+------------------+------------------+--------------------+\n\n"
     ]
    }
   ],
   "source": [
    "target_active_df= column_renamer(target_active_df , target_suffix, True)\n",
    "target_active_df.show()\n",
    "source_df = column_renamer(source_df, source_suffix,True)\n",
    "#source_df.show()\n",
    "\n",
    "#\n"
   ]
  },
  {
   "cell_type": "code",
   "execution_count": 0,
   "metadata": {
    "application/vnd.databricks.v1+cell": {
     "cellMetadata": {
      "byteLimit": 2048000,
      "rowLimit": 10000
     },
     "inputWidgets": {},
     "nuid": "4d5f6216-ee8f-4116-8e96-0466970641d7",
     "showTitle": false,
     "title": ""
    }
   },
   "outputs": [
    {
     "output_type": "stream",
     "name": "stdout",
     "output_type": "stream",
     "text": [
      "+------------------+---------------------+---------------------+---------------+---------------+--------------------+-----------+------------+--------------+----------+---------------------+------------------+------------------+--------------------+------------------+---------------------+---------------------+---------------+---------------+--------------------+-----------+------------+--------------+--------------------+\n|customer_id_target|customer_fname_target|customer_lname_target|username_target|password_target|      address_target|city_target|state_target|pincode_target|key_target|effective_date_target|future_date_target|active_flag_target|     hash_md5_target|customer_id_source|customer_fname_source|customer_lname_source|username_source|password_source|      address_source|city_source|state_source|pincode_source|     hash_md5_source|\n+------------------+---------------------+---------------------+---------------+---------------+--------------------+-----------+------------+--------------+----------+---------------------+------------------+------------------+--------------------+------------------+---------------------+---------------------+---------------+---------------+--------------------+-----------+------------+--------------+--------------------+\n|                 1|              Richard|            Hernandez|      XXXXXXXXX|      XXXXXXXXX|  6303 Heather Plaza|Brownsville|          TX|         78521|         1|           20-02-2024|        31-12-9999|              true|f2c1345c132ad8174...|                 1|              Richard|            Hernandez|      XXXXXXXXX|      XXXXXXXXX|  6303 Heather Plaza|OrangeVilla|          TX|         78521|62ad6fc883c3eeecd...|\n|                 2|                 Mary|              Barrett|      XXXXXXXXX|      XXXXXXXXX|9526 Noble Embers...|  Littleton|          CO|         80126|         2|           20-02-2024|        31-12-9999|              true|0a3dd6caa8299ff23...|                 2|                 Mary|              Barrett|      XXXXXXXXX|      XXXXXXXXX|9526 Noble Embers...|  Littleton|          CO|         80126|0a3dd6caa8299ff23...|\n|                 3|                  Ann|                Smith|      XXXXXXXXX|      XXXXXXXXX|3422 Blue Pioneer...|     Caguas|          PR|           725|         3|           20-02-2024|        31-12-9999|              true|b7ceea21c9e952b6d...|                 3|                  Ann|                Smith|      XXXXXXXXX|      XXXXXXXXX|3422 Blue Pioneer...|     Caguas|          PR|           725|b7ceea21c9e952b6d...|\n|                 4|                 Mary|                Jones|      XXXXXXXXX|      XXXXXXXXX|  8324 Little Common| San Marcos|          CA|         92069|         4|           20-02-2024|        31-12-9999|              true|288548d73dc94340e...|                 4|                 Mary|                Jones|      XXXXXXXXX|      XXXXXXXXX|  8324 Little Common| San Marcos|          CA|         92069|288548d73dc94340e...|\n|                 5|               Robert|               Hudson|      XXXXXXXXX|      XXXXXXXXX|10 Crystal River ...|     Caguas|          PR|           725|         5|           20-02-2024|        31-12-9999|              true|241fe7e8d544405fc...|                 5|               Robert|               Hudson|      XXXXXXXXX|      XXXXXXXXX|10 Crystal River ...|     Caguas|          PR|           725|241fe7e8d544405fc...|\n|                 6|                 Mary|                Smith|      XXXXXXXXX|      XXXXXXXXX|3151 Sleepy Quail...|    Passaic|          NJ|          7055|         6|           20-02-2024|        31-12-9999|              true|4de13de14f63afca5...|                 6|                 Mary|                Smith|      XXXXXXXXX|      XXXXXXXXX|3151 Sleepy Quail...|    Passaic|          NJ|          7055|4de13de14f63afca5...|\n|                 7|              Melissa|               Wilcox|      XXXXXXXXX|      XXXXXXXXX|9453 High Concession|     Caguas|          PR|           725|         7|           20-02-2024|        31-12-9999|              true|3e03db4c5453280bc...|                 7|              Melissa|               Wilcox|      XXXXXXXXX|      XXXXXXXXX|9453 High Concession|     Caguas|          PR|           725|3e03db4c5453280bc...|\n|                 8|                Megan|                Smith|      XXXXXXXXX|      XXXXXXXXX|3047 Foggy Forest...|   Lawrence|          MA|          1841|         8|           20-02-2024|        31-12-9999|              true|57b99fa733f062255...|                 8|                Megan|                Smith|      XXXXXXXXX|      XXXXXXXXX|3047 Foggy Forest...|   Lawrence|          MA|          1841|57b99fa733f062255...|\n|                 9|                 Mary|                Perez|      XXXXXXXXX|      XXXXXXXXX| 3616 Quaking Street|     Caguas|          PR|           725|         9|           20-02-2024|        31-12-9999|              true|2261235a19a71eeef...|                 9|                 Mary|                Perez|      XXXXXXXXX|      XXXXXXXXX| 3616 Quaking Street|     Caguas|          PR|           725|2261235a19a71eeef...|\n|                10|              Melissa|                Smith|      XXXXXXXXX|      XXXXXXXXX|8598 Harvest Beac...|   Stafford|          VA|         22554|        10|           20-02-2024|        31-12-9999|              true|4d9276d2febeb1072...|                10|              Melissa|                Smith|      XXXXXXXXX|      XXXXXXXXX|8598 Harvest Beac...|   Stafford|          VA|         22554|4d9276d2febeb1072...|\n|                11|                 Mary|              Huffman|      XXXXXXXXX|      XXXXXXXXX|    3169 Stony Woods|     Caguas|          PR|           725|        11|           20-02-2024|        31-12-9999|              true|35cdb9ea7dc689493...|              null|                 null|                 null|           null|           null|                null|       null|        null|          null|                null|\n|                12|          Christopher|                Smith|      XXXXXXXXX|      XXXXXXXXX|5594 Jagged Ember...|San Antonio|          TX|         78227|        12|           20-02-2024|        31-12-9999|              true|0cee0ae8686ec91a9...|              null|                 null|                 null|           null|           null|                null|       null|        null|          null|                null|\n|              null|                 null|                 null|           null|           null|                null|       null|        null|          null|      null|                 null|              null|              null|                null|                13|               Velina|                Smith|      XXXXXXXXX|      XXXXXXXXX|8598 Mari Gold  B...|   Stafford|          OH|         12345|4a43aa2b0525a4c1a...|\n+------------------+---------------------+---------------------+---------------+---------------+--------------------+-----------+------------+--------------+----------+---------------------+------------------+------------------+--------------------+------------------+---------------------+---------------------+---------------+---------------+--------------------+-----------+------------+--------------+--------------------+\n\n"
     ]
    }
   ],
   "source": [
    "df_merge = target_active_df.join(source_df,  col('customer_id_target')==col('customer_id_source'), how='fullouter')\n",
    "df_merge.show()"
   ]
  },
  {
   "cell_type": "code",
   "execution_count": 0,
   "metadata": {
    "application/vnd.databricks.v1+cell": {
     "cellMetadata": {
      "byteLimit": 2048000,
      "rowLimit": 10000
     },
     "inputWidgets": {},
     "nuid": "82a8f44c-05f0-4c8c-8581-4fd03784e195",
     "showTitle": false,
     "title": ""
    }
   },
   "outputs": [],
   "source": [
    "df_merge  =df_merge.withColumn('Action', when(col('hash_md5_source')==col('hash_md5_target'),'NOCHANGE')\\\n",
    "                    .when(col('customer_id_target').isNull(), 'INSERT')\\\n",
    "                    .when(col('customer_id_source').isNull(), 'DELETE')\\\n",
    "                        .otherwise('UPDATE') )\n"
   ]
  },
  {
   "cell_type": "code",
   "execution_count": 0,
   "metadata": {
    "application/vnd.databricks.v1+cell": {
     "cellMetadata": {
      "byteLimit": 2048000,
      "rowLimit": 10000
     },
     "inputWidgets": {},
     "nuid": "abff8f65-8b1c-49b4-8770-4d3995fd1077",
     "showTitle": false,
     "title": ""
    }
   },
   "outputs": [
    {
     "output_type": "stream",
     "name": "stdout",
     "output_type": "stream",
     "text": [
      "+------------------+---------------------+---------------------+---------------+---------------+--------------------+-----------+------------+--------------+----------+---------------------+------------------+------------------+--------------------+------------------+---------------------+---------------------+---------------+---------------+--------------------+-----------+------------+--------------+--------------------+--------+\n|customer_id_target|customer_fname_target|customer_lname_target|username_target|password_target|      address_target|city_target|state_target|pincode_target|key_target|effective_date_target|future_date_target|active_flag_target|     hash_md5_target|customer_id_source|customer_fname_source|customer_lname_source|username_source|password_source|      address_source|city_source|state_source|pincode_source|     hash_md5_source|  Action|\n+------------------+---------------------+---------------------+---------------+---------------+--------------------+-----------+------------+--------------+----------+---------------------+------------------+------------------+--------------------+------------------+---------------------+---------------------+---------------+---------------+--------------------+-----------+------------+--------------+--------------------+--------+\n|                 1|              Richard|            Hernandez|      XXXXXXXXX|      XXXXXXXXX|  6303 Heather Plaza|Brownsville|          TX|         78521|         1|           20-02-2024|        31-12-9999|              true|f2c1345c132ad8174...|                 1|              Richard|            Hernandez|      XXXXXXXXX|      XXXXXXXXX|  6303 Heather Plaza|OrangeVilla|          TX|         78521|62ad6fc883c3eeecd...|  UPDATE|\n|                 2|                 Mary|              Barrett|      XXXXXXXXX|      XXXXXXXXX|9526 Noble Embers...|  Littleton|          CO|         80126|         2|           20-02-2024|        31-12-9999|              true|0a3dd6caa8299ff23...|                 2|                 Mary|              Barrett|      XXXXXXXXX|      XXXXXXXXX|9526 Noble Embers...|  Littleton|          CO|         80126|0a3dd6caa8299ff23...|NOCHANGE|\n|                 3|                  Ann|                Smith|      XXXXXXXXX|      XXXXXXXXX|3422 Blue Pioneer...|     Caguas|          PR|           725|         3|           20-02-2024|        31-12-9999|              true|b7ceea21c9e952b6d...|                 3|                  Ann|                Smith|      XXXXXXXXX|      XXXXXXXXX|3422 Blue Pioneer...|     Caguas|          PR|           725|b7ceea21c9e952b6d...|NOCHANGE|\n|                 4|                 Mary|                Jones|      XXXXXXXXX|      XXXXXXXXX|  8324 Little Common| San Marcos|          CA|         92069|         4|           20-02-2024|        31-12-9999|              true|288548d73dc94340e...|                 4|                 Mary|                Jones|      XXXXXXXXX|      XXXXXXXXX|  8324 Little Common| San Marcos|          CA|         92069|288548d73dc94340e...|NOCHANGE|\n|                 5|               Robert|               Hudson|      XXXXXXXXX|      XXXXXXXXX|10 Crystal River ...|     Caguas|          PR|           725|         5|           20-02-2024|        31-12-9999|              true|241fe7e8d544405fc...|                 5|               Robert|               Hudson|      XXXXXXXXX|      XXXXXXXXX|10 Crystal River ...|     Caguas|          PR|           725|241fe7e8d544405fc...|NOCHANGE|\n|                 6|                 Mary|                Smith|      XXXXXXXXX|      XXXXXXXXX|3151 Sleepy Quail...|    Passaic|          NJ|          7055|         6|           20-02-2024|        31-12-9999|              true|4de13de14f63afca5...|                 6|                 Mary|                Smith|      XXXXXXXXX|      XXXXXXXXX|3151 Sleepy Quail...|    Passaic|          NJ|          7055|4de13de14f63afca5...|NOCHANGE|\n|                 7|              Melissa|               Wilcox|      XXXXXXXXX|      XXXXXXXXX|9453 High Concession|     Caguas|          PR|           725|         7|           20-02-2024|        31-12-9999|              true|3e03db4c5453280bc...|                 7|              Melissa|               Wilcox|      XXXXXXXXX|      XXXXXXXXX|9453 High Concession|     Caguas|          PR|           725|3e03db4c5453280bc...|NOCHANGE|\n|                 8|                Megan|                Smith|      XXXXXXXXX|      XXXXXXXXX|3047 Foggy Forest...|   Lawrence|          MA|          1841|         8|           20-02-2024|        31-12-9999|              true|57b99fa733f062255...|                 8|                Megan|                Smith|      XXXXXXXXX|      XXXXXXXXX|3047 Foggy Forest...|   Lawrence|          MA|          1841|57b99fa733f062255...|NOCHANGE|\n|                 9|                 Mary|                Perez|      XXXXXXXXX|      XXXXXXXXX| 3616 Quaking Street|     Caguas|          PR|           725|         9|           20-02-2024|        31-12-9999|              true|2261235a19a71eeef...|                 9|                 Mary|                Perez|      XXXXXXXXX|      XXXXXXXXX| 3616 Quaking Street|     Caguas|          PR|           725|2261235a19a71eeef...|NOCHANGE|\n|                10|              Melissa|                Smith|      XXXXXXXXX|      XXXXXXXXX|8598 Harvest Beac...|   Stafford|          VA|         22554|        10|           20-02-2024|        31-12-9999|              true|4d9276d2febeb1072...|                10|              Melissa|                Smith|      XXXXXXXXX|      XXXXXXXXX|8598 Harvest Beac...|   Stafford|          VA|         22554|4d9276d2febeb1072...|NOCHANGE|\n|                11|                 Mary|              Huffman|      XXXXXXXXX|      XXXXXXXXX|    3169 Stony Woods|     Caguas|          PR|           725|        11|           20-02-2024|        31-12-9999|              true|35cdb9ea7dc689493...|              null|                 null|                 null|           null|           null|                null|       null|        null|          null|                null|  DELETE|\n|                12|          Christopher|                Smith|      XXXXXXXXX|      XXXXXXXXX|5594 Jagged Ember...|San Antonio|          TX|         78227|        12|           20-02-2024|        31-12-9999|              true|0cee0ae8686ec91a9...|              null|                 null|                 null|           null|           null|                null|       null|        null|          null|                null|  DELETE|\n|              null|                 null|                 null|           null|           null|                null|       null|        null|          null|      null|                 null|              null|              null|                null|                13|               Velina|                Smith|      XXXXXXXXX|      XXXXXXXXX|8598 Mari Gold  B...|   Stafford|          OH|         12345|4a43aa2b0525a4c1a...|  INSERT|\n+------------------+---------------------+---------------------+---------------+---------------+--------------------+-----------+------------+--------------+----------+---------------------+------------------+------------------+--------------------+------------------+---------------------+---------------------+---------------+---------------+--------------------+-----------+------------+--------------+--------------------+--------+\n\n"
     ]
    }
   ],
   "source": [
    "df_merge.show()"
   ]
  },
  {
   "cell_type": "code",
   "execution_count": 0,
   "metadata": {
    "application/vnd.databricks.v1+cell": {
     "cellMetadata": {
      "byteLimit": 2048000,
      "rowLimit": 10000
     },
     "inputWidgets": {},
     "nuid": "7ac92978-cb6c-409f-8442-cb5e2cf6ed1e",
     "showTitle": false,
     "title": ""
    }
   },
   "outputs": [
    {
     "output_type": "stream",
     "name": "stdout",
     "output_type": "stream",
     "text": [
      "+--------+\n|  Action|\n+--------+\n|  UPDATE|\n|NOCHANGE|\n|NOCHANGE|\n|NOCHANGE|\n|NOCHANGE|\n|NOCHANGE|\n|NOCHANGE|\n|NOCHANGE|\n|NOCHANGE|\n|NOCHANGE|\n|  DELETE|\n|  DELETE|\n|  INSERT|\n+--------+\n\n"
     ]
    }
   ],
   "source": [
    "df_merge.select('Action').show()"
   ]
  },
  {
   "cell_type": "code",
   "execution_count": 0,
   "metadata": {
    "application/vnd.databricks.v1+cell": {
     "cellMetadata": {
      "byteLimit": 2048000,
      "rowLimit": 10000
     },
     "inputWidgets": {},
     "nuid": "46e0ef50-9d43-4b08-995e-60449114f13d",
     "showTitle": false,
     "title": ""
    }
   },
   "outputs": [
    {
     "output_type": "stream",
     "name": "stdout",
     "output_type": "stream",
     "text": [
      "12\n"
     ]
    }
   ],
   "source": [
    "max_key = df_merge.agg({'key_target':'max'}).collect()[0][0]\n",
    "print(max_key)"
   ]
  },
  {
   "cell_type": "code",
   "execution_count": 0,
   "metadata": {
    "application/vnd.databricks.v1+cell": {
     "cellMetadata": {
      "byteLimit": 2048000,
      "rowLimit": 10000
     },
     "inputWidgets": {},
     "nuid": "21961195-4415-4158-b1e6-33222dfbfe79",
     "showTitle": false,
     "title": ""
    }
   },
   "outputs": [],
   "source": [
    "#from pyspark.sql.functions import col\n",
    "unchange_records = column_renamer(df_merge.where(col('Action')=='NOCHANGE'), target_suffix,False).select(target_df.columns)\n"
   ]
  },
  {
   "cell_type": "code",
   "execution_count": 0,
   "metadata": {
    "application/vnd.databricks.v1+cell": {
     "cellMetadata": {
      "byteLimit": 2048000,
      "rowLimit": 10000
     },
     "inputWidgets": {},
     "nuid": "ebad4baa-db5f-4b99-bc28-bc7b54e400c1",
     "showTitle": false,
     "title": ""
    }
   },
   "outputs": [
    {
     "output_type": "stream",
     "name": "stdout",
     "output_type": "stream",
     "text": [
      "+-----------+--------------+--------------+---------+---------+--------------------+----------+-----+-------+---+--------------+-----------+-----------+\n|customer_id|customer_fname|customer_lname| username| password|             address|      city|state|pincode|key|effective_date|future_date|active_flag|\n+-----------+--------------+--------------+---------+---------+--------------------+----------+-----+-------+---+--------------+-----------+-----------+\n|          2|          Mary|       Barrett|XXXXXXXXX|XXXXXXXXX|9526 Noble Embers...| Littleton|   CO|  80126|  2|    20-02-2024| 31-12-9999|       true|\n|          3|           Ann|         Smith|XXXXXXXXX|XXXXXXXXX|3422 Blue Pioneer...|    Caguas|   PR|    725|  3|    20-02-2024| 31-12-9999|       true|\n|          4|          Mary|         Jones|XXXXXXXXX|XXXXXXXXX|  8324 Little Common|San Marcos|   CA|  92069|  4|    20-02-2024| 31-12-9999|       true|\n|          5|        Robert|        Hudson|XXXXXXXXX|XXXXXXXXX|10 Crystal River ...|    Caguas|   PR|    725|  5|    20-02-2024| 31-12-9999|       true|\n|          6|          Mary|         Smith|XXXXXXXXX|XXXXXXXXX|3151 Sleepy Quail...|   Passaic|   NJ|   7055|  6|    20-02-2024| 31-12-9999|       true|\n|          7|       Melissa|        Wilcox|XXXXXXXXX|XXXXXXXXX|9453 High Concession|    Caguas|   PR|    725|  7|    20-02-2024| 31-12-9999|       true|\n|          8|         Megan|         Smith|XXXXXXXXX|XXXXXXXXX|3047 Foggy Forest...|  Lawrence|   MA|   1841|  8|    20-02-2024| 31-12-9999|       true|\n|          9|          Mary|         Perez|XXXXXXXXX|XXXXXXXXX| 3616 Quaking Street|    Caguas|   PR|    725|  9|    20-02-2024| 31-12-9999|       true|\n|         10|       Melissa|         Smith|XXXXXXXXX|XXXXXXXXX|8598 Harvest Beac...|  Stafford|   VA|  22554| 10|    20-02-2024| 31-12-9999|       true|\n+-----------+--------------+--------------+---------+---------+--------------------+----------+-----+-------+---+--------------+-----------+-----------+\n\n"
     ]
    }
   ],
   "source": [
    "unchange_records.show() "
   ]
  },
  {
   "cell_type": "markdown",
   "metadata": {
    "application/vnd.databricks.v1+cell": {
     "cellMetadata": {
      "byteLimit": 2048000,
      "rowLimit": 10000
     },
     "inputWidgets": {},
     "nuid": "ebc6cc0d-b6db-4c39-a47a-2dfab25c9be0",
     "showTitle": false,
     "title": ""
    }
   },
   "source": [
    "###Logic forr inserting new records"
   ]
  },
  {
   "cell_type": "code",
   "execution_count": 0,
   "metadata": {
    "application/vnd.databricks.v1+cell": {
     "cellMetadata": {
      "byteLimit": 2048000,
      "rowLimit": 10000
     },
     "inputWidgets": {},
     "nuid": "5ed6f08a-7f5b-44b5-82c4-593c30389ab8",
     "showTitle": false,
     "title": ""
    }
   },
   "outputs": [],
   "source": [
    "from pyspark.sql.functions import col \n",
    "insert_records= column_renamer(df_merge.where(col('Action')=='INSERT'),source_suffix,False).select(source_columns)\n",
    "#insert_records.show()\n",
    "\n",
    "\n",
    "insert_records= insert_records.withColumn('effective_date', date_format(current_date(),'dd-MM-yyyy'))\\\n",
    "                .withColumn('future_date',date_format(lit('31-12-9999'),'dd-MM-yyyy'))\\\n",
    "                    .withColumn('rownum',row_number().over(mywin))\\\n",
    "                        .withColumn('key',max_key + col('rownum'))\\\n",
    "                            .withColumn('active_flag',lit('true'))\\\n",
    "                                .drop('rownum')\n",
    "\n"
   ]
  },
  {
   "cell_type": "code",
   "execution_count": 0,
   "metadata": {
    "application/vnd.databricks.v1+cell": {
     "cellMetadata": {
      "byteLimit": 2048000,
      "rowLimit": 10000
     },
     "inputWidgets": {},
     "nuid": "c99d4160-6699-4c12-b70e-6126c9e5cdbc",
     "showTitle": false,
     "title": ""
    }
   },
   "outputs": [
    {
     "output_type": "stream",
     "name": "stdout",
     "output_type": "stream",
     "text": [
      "+-----------+--------------+--------------+---------+---------+--------------------+--------+-----+-------+--------------+-----------+---+-----------+\n|customer_id|customer_fname|customer_lname| username| password|             address|    city|state|pincode|effective_date|future_date|key|active_flag|\n+-----------+--------------+--------------+---------+---------+--------------------+--------+-----+-------+--------------+-----------+---+-----------+\n|         13|        Velina|         Smith|XXXXXXXXX|XXXXXXXXX|8598 Mari Gold  B...|Stafford|   OH|  12345|    20-02-2024|       null| 13|       true|\n+-----------+--------------+--------------+---------+---------+--------------------+--------+-----+-------+--------------+-----------+---+-----------+\n\n"
     ]
    }
   ],
   "source": [
    "insert_records.show()"
   ]
  },
  {
   "cell_type": "code",
   "execution_count": 0,
   "metadata": {
    "application/vnd.databricks.v1+cell": {
     "cellMetadata": {
      "byteLimit": 2048000,
      "rowLimit": 10000
     },
     "inputWidgets": {},
     "nuid": "85e4e2c7-b79f-445c-91c6-25d90dbb5142",
     "showTitle": false,
     "title": ""
    }
   },
   "outputs": [
    {
     "output_type": "stream",
     "name": "stdout",
     "output_type": "stream",
     "text": [
      "13\n"
     ]
    }
   ],
   "source": [
    "max_key = insert_records.agg({'key':'max'}).collect()[0][0]\n",
    "print(max_key)"
   ]
  },
  {
   "cell_type": "markdown",
   "metadata": {
    "application/vnd.databricks.v1+cell": {
     "cellMetadata": {},
     "inputWidgets": {},
     "nuid": "3c8196fd-b330-4c6e-add3-391bce885abf",
     "showTitle": false,
     "title": ""
    }
   },
   "source": [
    "##updating the records"
   ]
  },
  {
   "cell_type": "code",
   "execution_count": 0,
   "metadata": {
    "application/vnd.databricks.v1+cell": {
     "cellMetadata": {
      "byteLimit": 2048000,
      "rowLimit": 10000
     },
     "inputWidgets": {},
     "nuid": "c246a305-4a95-4be5-9338-066eb352807c",
     "showTitle": false,
     "title": ""
    }
   },
   "outputs": [],
   "source": [
    "update_records = column_renamer(df_merge.where(col('Action')=='UPDATE'), target_suffix,False).select(target_columns)\\\n",
    "                .withColumn('future_date',date_format(current_date(),'dd-MM-yyyy'))\\\n",
    "                .withColumn('active_flag',lit('false'))\\\n",
    "                .unionByName(\n",
    "                    column_renamer(df_merge.where(col('Action')=='UPDATE'),source_suffix,False).select(source_columns)\\\n",
    "                        .withColumn('effective_date',date_format(current_date(),'dd-MM-yyyy'))\\\n",
    "                        .withColumn('rownumber',row_number().over(mywin))\\\n",
    "                        .withColumn('key', max_key+col('rownumber'))\\\n",
    "                            .withColumn('future_date',date_format(lit('31-12-9999'),'dd-MM-yyyy'))\\\n",
    "                                .withColumn('active_flag',lit('true'))\\\n",
    "                                .drop('rownumber')\n",
    "                )\n",
    "\n",
    "\n"
   ]
  },
  {
   "cell_type": "code",
   "execution_count": 0,
   "metadata": {
    "application/vnd.databricks.v1+cell": {
     "cellMetadata": {
      "byteLimit": 2048000,
      "rowLimit": 10000
     },
     "inputWidgets": {},
     "nuid": "67458a21-46f8-4cc9-bdcf-1336b81bebd2",
     "showTitle": false,
     "title": ""
    }
   },
   "outputs": [
    {
     "output_type": "stream",
     "name": "stdout",
     "output_type": "stream",
     "text": [
      "+-----------+--------------+--------------+---------+---------+------------------+-----------+-----+-------+---+--------------+-----------+-----------+\n|customer_id|customer_fname|customer_lname| username| password|           address|       city|state|pincode|key|effective_date|future_date|active_flag|\n+-----------+--------------+--------------+---------+---------+------------------+-----------+-----+-------+---+--------------+-----------+-----------+\n|          1|       Richard|     Hernandez|XXXXXXXXX|XXXXXXXXX|6303 Heather Plaza|Brownsville|   TX|  78521|  1|    20-02-2024| 20-02-2024|      false|\n|          1|       Richard|     Hernandez|XXXXXXXXX|XXXXXXXXX|6303 Heather Plaza|OrangeVilla|   TX|  78521| 14|    20-02-2024|       null|       true|\n+-----------+--------------+--------------+---------+---------+------------------+-----------+-----+-------+---+--------------+-----------+-----------+\n\n"
     ]
    }
   ],
   "source": [
    "update_records.show()"
   ]
  },
  {
   "cell_type": "markdown",
   "metadata": {
    "application/vnd.databricks.v1+cell": {
     "cellMetadata": {},
     "inputWidgets": {},
     "nuid": "aa99ee66-aee1-4b1a-833e-fd9df741f841",
     "showTitle": false,
     "title": ""
    }
   },
   "source": [
    "##delete records"
   ]
  },
  {
   "cell_type": "code",
   "execution_count": 0,
   "metadata": {
    "application/vnd.databricks.v1+cell": {
     "cellMetadata": {
      "byteLimit": 2048000,
      "rowLimit": 10000
     },
     "inputWidgets": {},
     "nuid": "7ed2f518-195f-400b-8e0e-d2d1fa4cdf19",
     "showTitle": false,
     "title": ""
    }
   },
   "outputs": [
    {
     "output_type": "stream",
     "name": "stdout",
     "output_type": "stream",
     "text": [
      "+-----------+--------------+--------------+---------+---------+--------------------+-----------+-----+-------+---+--------------+-----------+-----------+\n|customer_id|customer_fname|customer_lname| username| password|             address|       city|state|pincode|key|effective_date|future_date|active_flag|\n+-----------+--------------+--------------+---------+---------+--------------------+-----------+-----+-------+---+--------------+-----------+-----------+\n|         11|          Mary|       Huffman|XXXXXXXXX|XXXXXXXXX|    3169 Stony Woods|     Caguas|   PR|    725| 11|    20-02-2024| 20-02-2024|      false|\n|         12|   Christopher|         Smith|XXXXXXXXX|XXXXXXXXX|5594 Jagged Ember...|San Antonio|   TX|  78227| 12|    20-02-2024| 20-02-2024|      false|\n+-----------+--------------+--------------+---------+---------+--------------------+-----------+-----+-------+---+--------------+-----------+-----------+\n\n"
     ]
    }
   ],
   "source": [
    "deleted_records = column_renamer(df_merge.where(col('Action')=='DELETE'),target_suffix,False).select(target_columns)\n",
    "deleted_records = deleted_records.withColumn('future_date',date_format(current_date(),'dd-MM-yyyy'))\\\n",
    "    .withColumn('active_flag',lit('false'))\n",
    "\n",
    "deleted_records.show()"
   ]
  },
  {
   "cell_type": "code",
   "execution_count": 0,
   "metadata": {
    "application/vnd.databricks.v1+cell": {
     "cellMetadata": {
      "byteLimit": 2048000,
      "rowLimit": 10000
     },
     "inputWidgets": {},
     "nuid": "4e36fdd9-cd6b-44cb-8b94-b3dce632aa8c",
     "showTitle": false,
     "title": ""
    }
   },
   "outputs": [],
   "source": [
    "resultant_records = target_inactive_df.unionByName(update_records)\\\n",
    "    .unionByName(unchange_records)\\\n",
    "    .unionByName(insert_records)\\\n",
    "        .unionByName(deleted_records).orderBy('key')\n",
    "\n"
   ]
  },
  {
   "cell_type": "code",
   "execution_count": 0,
   "metadata": {
    "application/vnd.databricks.v1+cell": {
     "cellMetadata": {
      "byteLimit": 2048000,
      "rowLimit": 10000
     },
     "inputWidgets": {},
     "nuid": "91d4c49a-8f9a-4392-96da-ff9c882611ca",
     "showTitle": false,
     "title": ""
    }
   },
   "outputs": [
    {
     "output_type": "stream",
     "name": "stdout",
     "output_type": "stream",
     "text": [
      "+-----------+--------------+--------------+---------+---------+--------------------+-----------+-----+-------+---+--------------+-----------+-----------+\n|customer_id|customer_fname|customer_lname| username| password|             address|       city|state|pincode|key|effective_date|future_date|active_flag|\n+-----------+--------------+--------------+---------+---------+--------------------+-----------+-----+-------+---+--------------+-----------+-----------+\n|          1|       Richard|     Hernandez|XXXXXXXXX|XXXXXXXXX|  6303 Heather Plaza|Brownsville|   TX|  78521|  1|    20-02-2024| 20-02-2024|      false|\n|          2|          Mary|       Barrett|XXXXXXXXX|XXXXXXXXX|9526 Noble Embers...|  Littleton|   CO|  80126|  2|    20-02-2024| 31-12-9999|       true|\n|          3|           Ann|         Smith|XXXXXXXXX|XXXXXXXXX|3422 Blue Pioneer...|     Caguas|   PR|    725|  3|    20-02-2024| 31-12-9999|       true|\n|          4|          Mary|         Jones|XXXXXXXXX|XXXXXXXXX|  8324 Little Common| San Marcos|   CA|  92069|  4|    20-02-2024| 31-12-9999|       true|\n|          5|        Robert|        Hudson|XXXXXXXXX|XXXXXXXXX|10 Crystal River ...|     Caguas|   PR|    725|  5|    20-02-2024| 31-12-9999|       true|\n|          6|          Mary|         Smith|XXXXXXXXX|XXXXXXXXX|3151 Sleepy Quail...|    Passaic|   NJ|   7055|  6|    20-02-2024| 31-12-9999|       true|\n|          7|       Melissa|        Wilcox|XXXXXXXXX|XXXXXXXXX|9453 High Concession|     Caguas|   PR|    725|  7|    20-02-2024| 31-12-9999|       true|\n|          8|         Megan|         Smith|XXXXXXXXX|XXXXXXXXX|3047 Foggy Forest...|   Lawrence|   MA|   1841|  8|    20-02-2024| 31-12-9999|       true|\n|          9|          Mary|         Perez|XXXXXXXXX|XXXXXXXXX| 3616 Quaking Street|     Caguas|   PR|    725|  9|    20-02-2024| 31-12-9999|       true|\n|         10|       Melissa|         Smith|XXXXXXXXX|XXXXXXXXX|8598 Harvest Beac...|   Stafford|   VA|  22554| 10|    20-02-2024| 31-12-9999|       true|\n|         11|          Mary|       Huffman|XXXXXXXXX|XXXXXXXXX|    3169 Stony Woods|     Caguas|   PR|    725| 11|    20-02-2024| 20-02-2024|      false|\n|         12|   Christopher|         Smith|XXXXXXXXX|XXXXXXXXX|5594 Jagged Ember...|San Antonio|   TX|  78227| 12|    20-02-2024| 20-02-2024|      false|\n|         13|        Velina|         Smith|XXXXXXXXX|XXXXXXXXX|8598 Mari Gold  B...|   Stafford|   OH|  12345| 13|    20-02-2024|       null|       true|\n|          1|       Richard|     Hernandez|XXXXXXXXX|XXXXXXXXX|  6303 Heather Plaza|OrangeVilla|   TX|  78521| 14|    20-02-2024|       null|       true|\n+-----------+--------------+--------------+---------+---------+--------------------+-----------+-----+-------+---+--------------+-----------+-----------+\n\n"
     ]
    }
   ],
   "source": [
    "resultant_records.show()"
   ]
  },
  {
   "cell_type": "markdown",
   "metadata": {
    "application/vnd.databricks.v1+cell": {
     "cellMetadata": {
      "byteLimit": 2048000,
      "rowLimit": 10000
     },
     "inputWidgets": {},
     "nuid": "5e3248f0-e2ae-460f-a2a3-3337aa68fac0",
     "showTitle": false,
     "title": ""
    }
   },
   "source": [
    "## Below another approach of changing columns name since we cant do it directly like we do in pandas\n",
    "## hence we use zip for unpacking have a look"
   ]
  },
  {
   "cell_type": "code",
   "execution_count": 0,
   "metadata": {
    "application/vnd.databricks.v1+cell": {
     "cellMetadata": {
      "byteLimit": 2048000,
      "rowLimit": 10000
     },
     "inputWidgets": {},
     "nuid": "37eb37ca-644b-4898-ab12-c5a7df21ced6",
     "showTitle": false,
     "title": ""
    }
   },
   "outputs": [],
   "source": [
    "data=[(20,'A'),(20,'A'),(20,'A'),(20,'A'),(20,'A')]\n",
    "myschema= 'age int, name string'\n",
    "df = spark.createDataFrame(data,schema=myschema)\n",
    "#df.show()\n",
    "newcols=[]\n",
    "for col in df.columns:\n",
    "    newcol = col+'_target'\n",
    "    #print(newcol,end=' ')\n",
    "    newcols.append(newcol)\n",
    "\n",
    "for old,new in zip(df.columns , newcols):\n",
    "    df= df.withColumnRenamed(old, new)\n",
    "df.show()    "
   ]
  },
  {
   "cell_type": "markdown",
   "metadata": {
    "application/vnd.databricks.v1+cell": {
     "cellMetadata": {
      "byteLimit": 2048000,
      "rowLimit": 10000
     },
     "inputWidgets": {},
     "nuid": "90cf192a-3941-41e1-b2fd-d7f1ec6a69b8",
     "showTitle": false,
     "title": ""
    }
   },
   "source": [
    "## explaining hash calculation with small exmaple"
   ]
  },
  {
   "cell_type": "code",
   "execution_count": 0,
   "metadata": {
    "application/vnd.databricks.v1+cell": {
     "cellMetadata": {
      "byteLimit": 2048000,
      "rowLimit": 10000
     },
     "inputWidgets": {},
     "nuid": "883a0db4-822c-4425-a7a6-71b11faa8013",
     "showTitle": false,
     "title": ""
    }
   },
   "outputs": [],
   "source": [
    "def get_hash(df,  list_of_cols):\n",
    "\tif len(list_of_cols)>0:\n",
    "\t\treturn df.withColumn('hash_md5', md5(concat_ws('',*list_of_cols))) \n",
    "\telse:\n",
    "\t\treturn df.withColumn('hash_md5', md5(lit(1)) )\n",
    "\n",
    "newdf= get_hash(df ,df.columns)\n",
    "newdf.show(truncate=False)\n",
    "\n",
    "\t\n",
    "\t\t\n",
    "\n"
   ]
  },
  {
   "cell_type": "code",
   "execution_count": 0,
   "metadata": {
    "application/vnd.databricks.v1+cell": {
     "cellMetadata": {
      "byteLimit": 2048000,
      "rowLimit": 10000
     },
     "inputWidgets": {},
     "nuid": "7e5a8645-563b-4da3-b77d-00e0e56d032a",
     "showTitle": false,
     "title": ""
    }
   },
   "outputs": [],
   "source": []
  }
 ],
 "metadata": {
  "application/vnd.databricks.v1+notebook": {
   "dashboards": [],
   "language": "python",
   "notebookMetadata": {
    "pythonIndentUnit": 4
   },
   "notebookName": "SCDType-2",
   "widgets": {}
  }
 },
 "nbformat": 4,
 "nbformat_minor": 0
}
